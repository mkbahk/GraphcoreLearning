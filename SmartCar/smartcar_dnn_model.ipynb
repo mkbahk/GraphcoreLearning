{
  "nbformat": 4,
  "nbformat_minor": 0,
  "metadata": {
    "colab": {
      "name": "smartcar_dnn_model.ipynb",
      "provenance": []
    },
    "kernelspec": {
      "name": "python3",
      "display_name": "Python 3"
    },
    "language_info": {
      "name": "python"
    },
    "accelerator": "GPU"
  },
  "cells": [
    {
      "cell_type": "markdown",
      "source": [
        "<h1>스마트카 이상 징후 판별<h1>\n",
        "라이브러리 인포트"
      ],
      "metadata": {
        "id": "ugvLK8G-i9fC"
      }
    },
    {
      "cell_type": "code",
      "execution_count": 1,
      "metadata": {
        "id": "kwLSaXQziRRG"
      },
      "outputs": [],
      "source": [
        "import tensorflow as tf\n",
        "import pandas as pd\n",
        "import matplotlib.pyplot as plt\n",
        "\n",
        "from time import time\n",
        "from tensorflow.python.keras.callbacks import TensorBoard\n",
        "from tensorflow import keras\n",
        "from tensorflow.keras.models import Sequential\n",
        "from tensorflow.keras.layers import Dense, Dropout\n",
        "from tensorflow.keras.utils import to_categorical\n",
        "from sklearn.preprocessing import StandardScaler\n",
        "from sklearn.model_selection import train_test_split\n",
        "from sklearn.metrics import roc_curve, roc_auc_score, auc"
      ]
    },
    {
      "cell_type": "markdown",
      "source": [
        "학습용 데이타 로드"
      ],
      "metadata": {
        "id": "76wo-sKtkE1g"
      }
    },
    {
      "cell_type": "code",
      "source": [
        "df = pd.read_csv('/content/sample_data/CarDrivingIncidentInfo.csv')"
      ],
      "metadata": {
        "id": "8EurH2GYkEF2"
      },
      "execution_count": 4,
      "outputs": []
    },
    {
      "cell_type": "markdown",
      "source": [
        "학습용 데이타 전처리"
      ],
      "metadata": {
        "id": "O8mxpRZlkwTE"
      }
    },
    {
      "cell_type": "code",
      "source": [
        "X = df.iloc[:, :-1].values\n",
        "Y = df.iloc[:, -1].values\n",
        "\n",
        "X_train, X_test, Y_train, Y_test = train_test_split(X, Y, test_size=0.2, random_state=1)\n",
        "\n",
        "Y_train = to_categorical(Y_train)\n",
        "Y_test = to_categorical(Y_test)\n",
        "\n",
        "sc = StandardScaler()\n",
        "X_train = sc.fit_transform(X_train)\n",
        "X_test = sc.transform(X_test)"
      ],
      "metadata": {
        "id": "U8mwAPEjk7-v"
      },
      "execution_count": 5,
      "outputs": []
    },
    {
      "cell_type": "markdown",
      "source": [
        "DNN 모델 구성 및 요약 정보 출력"
      ],
      "metadata": {
        "id": "d5UzNZG2lHIR"
      }
    },
    {
      "cell_type": "code",
      "source": [
        "model = Sequential([\n",
        "    Dense(10, input_dim=10, activation='relu'),\n",
        "    Dense(20, activation='relu'),\n",
        "    Dropout(0.25),\n",
        "    Dense(10, activation='relu'),\n",
        "    Dense(3, activation='softmax')\n",
        "])\n",
        "\n",
        "model.compile(optimizer='adam', loss='categorical_crossentropy', metrics=['accuracy'])\n",
        "\n",
        "model.summary()"
      ],
      "metadata": {
        "colab": {
          "base_uri": "https://localhost:8080/"
        },
        "id": "yGNdp7UylB8K",
        "outputId": "f3d5935b-0486-43b8-b3f1-a910eabdda05"
      },
      "execution_count": 6,
      "outputs": [
        {
          "output_type": "stream",
          "name": "stdout",
          "text": [
            "Model: \"sequential\"\n",
            "_________________________________________________________________\n",
            " Layer (type)                Output Shape              Param #   \n",
            "=================================================================\n",
            " dense (Dense)               (None, 10)                110       \n",
            "                                                                 \n",
            " dense_1 (Dense)             (None, 20)                220       \n",
            "                                                                 \n",
            " dropout (Dropout)           (None, 20)                0         \n",
            "                                                                 \n",
            " dense_2 (Dense)             (None, 10)                210       \n",
            "                                                                 \n",
            " dense_3 (Dense)             (None, 3)                 33        \n",
            "                                                                 \n",
            "=================================================================\n",
            "Total params: 573\n",
            "Trainable params: 573\n",
            "Non-trainable params: 0\n",
            "_________________________________________________________________\n"
          ]
        }
      ]
    },
    {
      "cell_type": "markdown",
      "source": [
        "DNN 모델 학습"
      ],
      "metadata": {
        "id": "sWqOILBclT3U"
      }
    },
    {
      "cell_type": "code",
      "source": [
        "tensorboard = keras.callbacks.TensorBoard(log_dir='./graph', histogram_freq=1, write_graph=True, write_images=True)\n",
        "\n",
        "hist  = model.fit(X_train, Y_train, batch_size=2000, epochs=50, callbacks=[tensorboard], validation_data=(X_test, Y_test))"
      ],
      "metadata": {
        "colab": {
          "base_uri": "https://localhost:8080/"
        },
        "id": "9OPiDvWqlWHW",
        "outputId": "9b2c0c9a-543e-47ad-afa3-27700e58edd2"
      },
      "execution_count": 7,
      "outputs": [
        {
          "output_type": "stream",
          "name": "stdout",
          "text": [
            "Epoch 1/50\n",
            "80/80 [==============================] - 3s 7ms/step - loss: 0.9018 - accuracy: 0.5823 - val_loss: 0.7093 - val_accuracy: 0.6723\n",
            "Epoch 2/50\n",
            "80/80 [==============================] - 0s 4ms/step - loss: 0.5912 - accuracy: 0.7363 - val_loss: 0.4013 - val_accuracy: 0.8310\n",
            "Epoch 3/50\n",
            "80/80 [==============================] - 0s 5ms/step - loss: 0.3499 - accuracy: 0.8668 - val_loss: 0.2070 - val_accuracy: 0.9399\n",
            "Epoch 4/50\n",
            "80/80 [==============================] - 0s 4ms/step - loss: 0.2113 - accuracy: 0.9278 - val_loss: 0.1275 - val_accuracy: 0.9650\n",
            "Epoch 5/50\n",
            "80/80 [==============================] - 0s 4ms/step - loss: 0.1471 - accuracy: 0.9518 - val_loss: 0.0935 - val_accuracy: 0.9737\n",
            "Epoch 6/50\n",
            "80/80 [==============================] - 0s 4ms/step - loss: 0.1100 - accuracy: 0.9657 - val_loss: 0.0707 - val_accuracy: 0.9807\n",
            "Epoch 7/50\n",
            "80/80 [==============================] - 0s 4ms/step - loss: 0.0846 - accuracy: 0.9745 - val_loss: 0.0560 - val_accuracy: 0.9845\n",
            "Epoch 8/50\n",
            "80/80 [==============================] - 0s 4ms/step - loss: 0.0666 - accuracy: 0.9799 - val_loss: 0.0437 - val_accuracy: 0.9886\n",
            "Epoch 9/50\n",
            "80/80 [==============================] - 0s 4ms/step - loss: 0.0537 - accuracy: 0.9843 - val_loss: 0.0347 - val_accuracy: 0.9903\n",
            "Epoch 10/50\n",
            "80/80 [==============================] - 0s 4ms/step - loss: 0.0446 - accuracy: 0.9865 - val_loss: 0.0286 - val_accuracy: 0.9921\n",
            "Epoch 11/50\n",
            "80/80 [==============================] - 0s 4ms/step - loss: 0.0375 - accuracy: 0.9885 - val_loss: 0.0234 - val_accuracy: 0.9933\n",
            "Epoch 12/50\n",
            "80/80 [==============================] - 0s 4ms/step - loss: 0.0320 - accuracy: 0.9898 - val_loss: 0.0190 - val_accuracy: 0.9946\n",
            "Epoch 13/50\n",
            "80/80 [==============================] - 0s 4ms/step - loss: 0.0265 - accuracy: 0.9913 - val_loss: 0.0150 - val_accuracy: 0.9956\n",
            "Epoch 14/50\n",
            "80/80 [==============================] - 0s 5ms/step - loss: 0.0219 - accuracy: 0.9926 - val_loss: 0.0114 - val_accuracy: 0.9962\n",
            "Epoch 15/50\n",
            "80/80 [==============================] - 0s 5ms/step - loss: 0.0181 - accuracy: 0.9937 - val_loss: 0.0091 - val_accuracy: 0.9966\n",
            "Epoch 16/50\n",
            "80/80 [==============================] - 0s 4ms/step - loss: 0.0151 - accuracy: 0.9949 - val_loss: 0.0074 - val_accuracy: 0.9977\n",
            "Epoch 17/50\n",
            "80/80 [==============================] - 0s 4ms/step - loss: 0.0130 - accuracy: 0.9960 - val_loss: 0.0063 - val_accuracy: 0.9983\n",
            "Epoch 18/50\n",
            "80/80 [==============================] - 0s 4ms/step - loss: 0.0114 - accuracy: 0.9965 - val_loss: 0.0053 - val_accuracy: 0.9985\n",
            "Epoch 19/50\n",
            "80/80 [==============================] - 0s 4ms/step - loss: 0.0103 - accuracy: 0.9969 - val_loss: 0.0046 - val_accuracy: 0.9987\n",
            "Epoch 20/50\n",
            "80/80 [==============================] - 0s 5ms/step - loss: 0.0087 - accuracy: 0.9977 - val_loss: 0.0038 - val_accuracy: 0.9987\n",
            "Epoch 21/50\n",
            "80/80 [==============================] - 0s 4ms/step - loss: 0.0077 - accuracy: 0.9978 - val_loss: 0.0034 - val_accuracy: 0.9987\n",
            "Epoch 22/50\n",
            "80/80 [==============================] - 0s 4ms/step - loss: 0.0072 - accuracy: 0.9979 - val_loss: 0.0028 - val_accuracy: 0.9987\n",
            "Epoch 23/50\n",
            "80/80 [==============================] - 0s 4ms/step - loss: 0.0064 - accuracy: 0.9980 - val_loss: 0.0022 - val_accuracy: 0.9992\n",
            "Epoch 24/50\n",
            "80/80 [==============================] - 0s 4ms/step - loss: 0.0058 - accuracy: 0.9985 - val_loss: 0.0018 - val_accuracy: 0.9997\n",
            "Epoch 25/50\n",
            "80/80 [==============================] - 0s 4ms/step - loss: 0.0050 - accuracy: 0.9987 - val_loss: 0.0013 - val_accuracy: 0.9997\n",
            "Epoch 26/50\n",
            "80/80 [==============================] - 0s 4ms/step - loss: 0.0043 - accuracy: 0.9991 - val_loss: 0.0010 - val_accuracy: 0.9999\n",
            "Epoch 27/50\n",
            "80/80 [==============================] - 0s 4ms/step - loss: 0.0040 - accuracy: 0.9990 - val_loss: 8.7251e-04 - val_accuracy: 1.0000\n",
            "Epoch 28/50\n",
            "80/80 [==============================] - 0s 4ms/step - loss: 0.0037 - accuracy: 0.9990 - val_loss: 6.9657e-04 - val_accuracy: 1.0000\n",
            "Epoch 29/50\n",
            "80/80 [==============================] - 0s 4ms/step - loss: 0.0033 - accuracy: 0.9993 - val_loss: 5.5288e-04 - val_accuracy: 1.0000\n",
            "Epoch 30/50\n",
            "80/80 [==============================] - 0s 4ms/step - loss: 0.0032 - accuracy: 0.9991 - val_loss: 5.0108e-04 - val_accuracy: 1.0000\n",
            "Epoch 31/50\n",
            "80/80 [==============================] - 0s 4ms/step - loss: 0.0031 - accuracy: 0.9991 - val_loss: 4.3187e-04 - val_accuracy: 1.0000\n",
            "Epoch 32/50\n",
            "80/80 [==============================] - 0s 4ms/step - loss: 0.0030 - accuracy: 0.9991 - val_loss: 4.4429e-04 - val_accuracy: 1.0000\n",
            "Epoch 33/50\n",
            "80/80 [==============================] - 0s 4ms/step - loss: 0.0030 - accuracy: 0.9991 - val_loss: 3.3958e-04 - val_accuracy: 1.0000\n",
            "Epoch 34/50\n",
            "80/80 [==============================] - 0s 4ms/step - loss: 0.0025 - accuracy: 0.9994 - val_loss: 3.5056e-04 - val_accuracy: 1.0000\n",
            "Epoch 35/50\n",
            "80/80 [==============================] - 0s 4ms/step - loss: 0.0024 - accuracy: 0.9994 - val_loss: 3.1094e-04 - val_accuracy: 1.0000\n",
            "Epoch 36/50\n",
            "80/80 [==============================] - 0s 4ms/step - loss: 0.0025 - accuracy: 0.9993 - val_loss: 2.9870e-04 - val_accuracy: 1.0000\n",
            "Epoch 37/50\n",
            "80/80 [==============================] - 0s 4ms/step - loss: 0.0023 - accuracy: 0.9994 - val_loss: 2.5183e-04 - val_accuracy: 1.0000\n",
            "Epoch 38/50\n",
            "80/80 [==============================] - 0s 4ms/step - loss: 0.0024 - accuracy: 0.9994 - val_loss: 2.7156e-04 - val_accuracy: 1.0000\n",
            "Epoch 39/50\n",
            "80/80 [==============================] - 0s 4ms/step - loss: 0.0021 - accuracy: 0.9994 - val_loss: 2.0914e-04 - val_accuracy: 1.0000\n",
            "Epoch 40/50\n",
            "80/80 [==============================] - 0s 4ms/step - loss: 0.0019 - accuracy: 0.9995 - val_loss: 2.1424e-04 - val_accuracy: 1.0000\n",
            "Epoch 41/50\n",
            "80/80 [==============================] - 0s 4ms/step - loss: 0.0022 - accuracy: 0.9994 - val_loss: 2.1823e-04 - val_accuracy: 1.0000\n",
            "Epoch 42/50\n",
            "80/80 [==============================] - 0s 4ms/step - loss: 0.0018 - accuracy: 0.9995 - val_loss: 1.9192e-04 - val_accuracy: 1.0000\n",
            "Epoch 43/50\n",
            "80/80 [==============================] - 0s 4ms/step - loss: 0.0020 - accuracy: 0.9994 - val_loss: 1.8925e-04 - val_accuracy: 1.0000\n",
            "Epoch 44/50\n",
            "80/80 [==============================] - 0s 4ms/step - loss: 0.0018 - accuracy: 0.9995 - val_loss: 1.8272e-04 - val_accuracy: 1.0000\n",
            "Epoch 45/50\n",
            "80/80 [==============================] - 0s 4ms/step - loss: 0.0017 - accuracy: 0.9996 - val_loss: 1.3467e-04 - val_accuracy: 1.0000\n",
            "Epoch 46/50\n",
            "80/80 [==============================] - 0s 5ms/step - loss: 0.0016 - accuracy: 0.9996 - val_loss: 1.1577e-04 - val_accuracy: 1.0000\n",
            "Epoch 47/50\n",
            "80/80 [==============================] - 0s 4ms/step - loss: 0.0015 - accuracy: 0.9996 - val_loss: 1.3601e-04 - val_accuracy: 1.0000\n",
            "Epoch 48/50\n",
            "80/80 [==============================] - 0s 4ms/step - loss: 0.0015 - accuracy: 0.9997 - val_loss: 1.3021e-04 - val_accuracy: 1.0000\n",
            "Epoch 49/50\n",
            "80/80 [==============================] - 0s 4ms/step - loss: 0.0016 - accuracy: 0.9995 - val_loss: 1.4935e-04 - val_accuracy: 1.0000\n",
            "Epoch 50/50\n",
            "80/80 [==============================] - 0s 4ms/step - loss: 0.0016 - accuracy: 0.9996 - val_loss: 1.1302e-04 - val_accuracy: 1.0000\n"
          ]
        }
      ]
    },
    {
      "cell_type": "markdown",
      "source": [
        "DNN 모델 학습한 결과"
      ],
      "metadata": {
        "id": "hdSnfxjAlbhc"
      }
    },
    {
      "cell_type": "code",
      "source": [
        "score = model.evaluate(X_test, Y_test, verbose=0)\n",
        "print(model.metrics_names)\n",
        "print(score)"
      ],
      "metadata": {
        "colab": {
          "base_uri": "https://localhost:8080/"
        },
        "id": "oPIOM2fClnfW",
        "outputId": "a413843a-dfdf-4b30-9d08-edd43b202b0a"
      },
      "execution_count": 8,
      "outputs": [
        {
          "output_type": "stream",
          "name": "stdout",
          "text": [
            "['loss', 'accuracy']\n",
            "[0.00011301845370326191, 1.0]\n"
          ]
        }
      ]
    },
    {
      "cell_type": "markdown",
      "source": [
        "DNN 모델의 학습 결과 시각화"
      ],
      "metadata": {
        "id": "NuJmBAc9lkyK"
      }
    },
    {
      "cell_type": "code",
      "source": [
        "fig, loss_ax = plt.subplots()\n",
        "acc_ax = loss_ax.twinx()\n",
        "\n",
        "loss_ax.plot(hist.history['loss'], 'y', label='train loss')\n",
        "loss_ax.plot(hist.history['val_loss'], 'r', label='val loss')\n",
        "acc_ax.plot(hist.history['accuracy'], 'b', label='train acc')\n",
        "acc_ax.plot(hist.history['val_accuracy'], 'g', label='val acc')\n",
        "\n",
        "loss_ax.set_xlabel('epoch')\n",
        "\n",
        "loss_ax.set_ylabel('loss')\n",
        "loss_ax.legend(loc='lower right')\n",
        "\n",
        "acc_ax.set_ylabel('accuracy')\n",
        "acc_ax.legend(loc='upper right')\n",
        "\n",
        "plt.show()"
      ],
      "metadata": {
        "colab": {
          "base_uri": "https://localhost:8080/",
          "height": 279
        },
        "id": "dvIkbVkNlwZI",
        "outputId": "af5d9d11-655e-4b96-889f-2ba56a820088"
      },
      "execution_count": 11,
      "outputs": [
        {
          "output_type": "display_data",
          "data": {
            "text/plain": [
              "<Figure size 432x288 with 2 Axes>"
            ],
            "image/png": "[encoded data removed]"
          },
          "metadata": {
            "needs_background": "light"
          }
        }
      ]
    },
    {
      "cell_type": "markdown",
      "source": [
        "DNN 모델 예측 결과 평가"
      ],
      "metadata": {
        "id": "HETqOkhsmNEl"
      }
    },
    {
      "cell_type": "code",
      "source": [
        "y_predict_result = model.predict(X_test)\n",
        "\n",
        "fpr, tpr, thresholds = roc_curve (Y_test.ravel(), y_predict_result.ravel())\n",
        "roc_auc = auc(fpr, tpr)\n",
        "\n",
        "plt.clf()\n",
        "plt.figure(figsize = (9, 7))\n",
        "plt.plot(fpr, tpr, color='navy', lw=10, label='ROC Curve (AUC = %0.2f)' % roc_auc)\n",
        "plt.plot([0, 1], [0, 1], color='red', lw=2, linestyle='--')\n",
        "plt.xlim([0.0, 1.0])\n",
        "plt.ylim([0.0, 1.0])\n",
        "plt.rcParams['font.size'] = 12\n",
        "plt.title('[ ROC Curve ]')\n",
        "plt.xlabel('Specificity-False Positive Rate')\n",
        "plt.ylabel('Sensitivity-True Positive Rate')\n",
        "plt.legend(loc=\"lower right\")\n",
        "plt.grid(True)\n",
        "plt.show()"
      ],
      "metadata": {
        "colab": {
          "base_uri": "https://localhost:8080/",
          "height": 476
        },
        "id": "jw7BBbjxmRSp",
        "outputId": "61f138f1-8fb8-4a7b-fc82-79ff92c7027c"
      },
      "execution_count": 12,
      "outputs": [
        {
          "output_type": "display_data",
          "data": {
            "text/plain": [
              "<Figure size 432x288 with 0 Axes>"
            ]
          },
          "metadata": {}
        },
        {
          "output_type": "display_data",
          "data": {
            "text/plain": [
              "<Figure size 648x504 with 1 Axes>"
            ],
            "image/png": "[encoded data removed]"
          },
          "metadata": {
            "needs_background": "light"
          }
        }
      ]
    },
    {
      "cell_type": "markdown",
      "source": [
        "DNN 모델 저장"
      ],
      "metadata": {
        "id": "zQGSopMEma3L"
      }
    },
    {
      "cell_type": "code",
      "source": [
        "from keras.models import load_model\n",
        "\n",
        "model.save('/content/sample_data/smartcar_dnn_model.h5')"
      ],
      "metadata": {
        "id": "qIIakGgMmjPn"
      },
      "execution_count": 15,
      "outputs": []
    },
    {
      "cell_type": "markdown",
      "source": [
        "End of Codes."
      ],
      "metadata": {
        "id": "VCju_9eqmfTi"
      }
    }
  ]
}