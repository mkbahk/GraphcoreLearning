{
 "cells": [
  {
   "cell_type": "code",
   "execution_count": 7,
   "id": "e91684d5-b978-42d6-8705-8a71c57f2a67",
   "metadata": {},
   "outputs": [],
   "source": [
    "import tensorflow as tf\n",
    "from tensorflow.python import ipu"
   ]
  },
  {
   "cell_type": "code",
   "execution_count": 8,
   "id": "0489c692-0fab-4063-96bd-70e9745ba8a3",
   "metadata": {},
   "outputs": [],
   "source": [
    "# Configure the IPU device.\n",
    "config = ipu.config.IPUConfig()\n",
    "config.auto_select_ipus = 1\n",
    "config.configure_ipu_system()"
   ]
  },
  {
   "cell_type": "code",
   "execution_count": 9,
   "id": "91c68642-82eb-4b7d-a62b-d2af08796244",
   "metadata": {},
   "outputs": [],
   "source": [
    "# Create a simple model.\n",
    "def create_model():\n",
    "  return tf.keras.Sequential([\n",
    "      tf.keras.layers.Flatten(),\n",
    "      tf.keras.layers.Dense(256, activation='relu'),\n",
    "      tf.keras.layers.Dense(128, activation='relu'),\n",
    "      tf.keras.layers.Dense(10)\n",
    "  ])\n",
    "###end of def:"
   ]
  },
  {
   "cell_type": "code",
   "execution_count": 10,
   "id": "4356f8fa-6c5c-402b-879e-fce063b8af9b",
   "metadata": {},
   "outputs": [],
   "source": [
    "# Create a dataset for the model.\n",
    "def create_dataset():\n",
    "  mnist = tf.keras.datasets.mnist\n",
    "\n",
    "  (x_train, y_train), (_, _) = mnist.load_data()\n",
    "  x_train = x_train / 255.0\n",
    "\n",
    "  train_ds = tf.data.Dataset.from_tensor_slices(\n",
    "      (x_train, y_train)).shuffle(10000).batch(32, drop_remainder=True)\n",
    "  train_ds = train_ds.map(lambda d, l:\n",
    "                          (tf.cast(d, tf.float32), tf.cast(l, tf.int32)))\n",
    "\n",
    "  return train_ds.repeat().prefetch(16)\n",
    "###end of def:"
   ]
  },
  {
   "cell_type": "code",
   "execution_count": 11,
   "id": "b2c84c31-0123-4f04-adef-a6e75cbde247",
   "metadata": {},
   "outputs": [],
   "source": [
    "dataset = create_dataset()"
   ]
  },
  {
   "cell_type": "code",
   "execution_count": 12,
   "id": "5ced35ff-c5e1-4650-a3ef-c2ff1d5544b5",
   "metadata": {},
   "outputs": [
    {
     "name": "stdout",
     "output_type": "stream",
     "text": [
      "INFO:tensorflow:The model `sequential` has been configured with only 1 steps per execution. Consider increasing the value for the `steps_per_execution` argument passed to the `compile()` method to improve performance.\n",
      "Epoch 1/2\n",
      "100/100 [==============================] - 15s 2ms/step - loss: 3.1750 - accuracy: 0.1985\n",
      "INFO:tensorflow:The model `sequential` has been configured with only 1 steps per execution. Consider increasing the value for the `steps_per_execution` argument passed to the `compile()` method to improve performance.\n",
      "Epoch 2/2\n",
      "100/100 [==============================] - 0s 2ms/step - loss: 2.3474 - accuracy: 0.1743\n",
      "\n",
      "\n",
      "Job Done!!\n"
     ]
    }
   ],
   "source": [
    "# Create a strategy for execution on the IPU.\n",
    "strategy = ipu.ipu_strategy.IPUStrategy()\n",
    "with strategy.scope():\n",
    "  # Create a Keras model inside the strategy.\n",
    "  model = create_model()\n",
    "\n",
    "  # Compile the model for training.\n",
    "  model.compile(\n",
    "      loss=tf.keras.losses.SparseCategoricalCrossentropy(),\n",
    "      optimizer=tf.keras.optimizers.RMSprop(),\n",
    "      metrics=[\"accuracy\"],\n",
    "  )\n",
    "\n",
    "  model.fit(dataset, epochs=2, steps_per_epoch=100)\n",
    "###end of with:\n",
    "\n",
    "print(\"\\n\\nJob Done!!\")"
   ]
  }
 ],
 "metadata": {
  "kernelspec": {
   "display_name": "Python 3",
   "language": "python",
   "name": "python3"
  },
  "language_info": {
   "codemirror_mode": {
    "name": "ipython",
    "version": 3
   },
   "file_extension": ".py",
   "mimetype": "text/x-python",
   "name": "python",
   "nbconvert_exporter": "python",
   "pygments_lexer": "ipython3",
   "version": "3.6.9"
  }
 },
 "nbformat": 4,
 "nbformat_minor": 5
}
