{
 "cells": [
  {
   "cell_type": "code",
   "execution_count": 5,
   "id": "1a7e559a-b01c-484e-85bc-51c7ab72f4cd",
   "metadata": {},
   "outputs": [],
   "source": [
    "import tensorflow as tf\n",
    "from tensorflow.python import ipu"
   ]
  },
  {
   "cell_type": "code",
   "execution_count": 6,
   "id": "0e4e6136-f521-4d81-ba9f-ed506ed6a305",
   "metadata": {},
   "outputs": [],
   "source": [
    "# Configure the IPU device.\n",
    "config = ipu.config.IPUConfig()\n",
    "config.auto_select_ipus = 1\n",
    "config.configure_ipu_system()"
   ]
  },
  {
   "cell_type": "code",
   "execution_count": 7,
   "id": "e169fc41-ab7a-4bcc-bdb3-aba66b46d978",
   "metadata": {},
   "outputs": [],
   "source": [
    "a = tf.constant([[1.0, 2.0, 3.0], [4.0, 5.0, 6.0]])\n",
    "b = tf.constant([[1.0, 2.0], [3.0, 4.0], [5.0, 6.0]])\n",
    "with tf.device('/device:IPU:0'):\n",
    "  c = tf.matmul(a, b)"
   ]
  },
  {
   "cell_type": "code",
   "execution_count": 8,
   "id": "941b8153-54f4-40f9-91ab-591d0b542372",
   "metadata": {},
   "outputs": [
    {
     "name": "stdout",
     "output_type": "stream",
     "text": [
      "tf.Tensor(\n",
      "[[22. 28.]\n",
      " [49. 64.]], shape=(2, 2), dtype=float32)\n"
     ]
    }
   ],
   "source": [
    "print(c)"
   ]
  }
 ],
 "metadata": {
  "kernelspec": {
   "display_name": "Python 3",
   "language": "python",
   "name": "python3"
  },
  "language_info": {
   "codemirror_mode": {
    "name": "ipython",
    "version": 3
   },
   "file_extension": ".py",
   "mimetype": "text/x-python",
   "name": "python",
   "nbconvert_exporter": "python",
   "pygments_lexer": "ipython3",
   "version": "3.6.9"
  }
 },
 "nbformat": 4,
 "nbformat_minor": 5
}
