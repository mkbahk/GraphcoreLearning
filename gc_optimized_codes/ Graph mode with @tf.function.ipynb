{
 "cells": [
  {
   "cell_type": "code",
   "execution_count": 2,
   "id": "8d5812d5-c4b2-4f0f-9244-dddcfd3bf133",
   "metadata": {},
   "outputs": [],
   "source": [
    "import tensorflow as tf\n",
    "from tensorflow.python import ipu"
   ]
  },
  {
   "cell_type": "code",
   "execution_count": 3,
   "id": "50b6f01a-1d1a-45d0-9497-420208567e0b",
   "metadata": {},
   "outputs": [],
   "source": [
    "# Configure the IPU device.\n",
    "config = ipu.config.IPUConfig()\n",
    "config.auto_select_ipus = 1\n",
    "config.configure_ipu_system()"
   ]
  },
  {
   "cell_type": "code",
   "execution_count": 4,
   "id": "53396154-951c-403b-8fdd-e773211fa844",
   "metadata": {},
   "outputs": [],
   "source": [
    "a = tf.constant([[1.0, 2.0, 3.0], [4.0, 5.0, 6.0]])\n",
    "b = tf.constant([[1.0, 2.0], [3.0, 4.0], [5.0, 6.0]])"
   ]
  },
  {
   "cell_type": "code",
   "execution_count": 5,
   "id": "1d536d23-d181-426c-9a2c-069c3453f3d5",
   "metadata": {},
   "outputs": [],
   "source": [
    "@tf.function(experimental_compile=True)\n",
    "def matmul_fn(x, y):\n",
    "  z = tf.matmul(x, y)\n",
    "  return z"
   ]
  },
  {
   "cell_type": "code",
   "execution_count": 6,
   "id": "6b8df16c-fcab-4684-a6c8-acd36e4212c1",
   "metadata": {},
   "outputs": [
    {
     "name": "stdout",
     "output_type": "stream",
     "text": [
      "tf.Tensor(\n",
      "[[22. 28.]\n",
      " [49. 64.]], shape=(2, 2), dtype=float32)\n"
     ]
    }
   ],
   "source": [
    "strategy = ipu.ipu_strategy.IPUStrategy()\n",
    "with strategy.scope():\n",
    "  c = strategy.run(matmul_fn, args=(a, b))\n",
    "print(c)"
   ]
  },
  {
   "cell_type": "code",
   "execution_count": null,
   "id": "65a51532-6a06-4141-b3a9-2dc5006ddacc",
   "metadata": {},
   "outputs": [],
   "source": []
  }
 ],
 "metadata": {
  "kernelspec": {
   "display_name": "Python 3",
   "language": "python",
   "name": "python3"
  },
  "language_info": {
   "codemirror_mode": {
    "name": "ipython",
    "version": 3
   },
   "file_extension": ".py",
   "mimetype": "text/x-python",
   "name": "python",
   "nbconvert_exporter": "python",
   "pygments_lexer": "ipython3",
   "version": "3.6.9"
  }
 },
 "nbformat": 4,
 "nbformat_minor": 5
}
