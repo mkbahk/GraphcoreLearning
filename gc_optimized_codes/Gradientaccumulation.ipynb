{
 "cells": [
  {
   "cell_type": "code",
   "execution_count": 1,
   "id": "26d621bd-ba57-41ef-87e6-b8a45fa1dd61",
   "metadata": {},
   "outputs": [],
   "source": [
    "import tensorflow as tf\n",
    "from tensorflow.python import ipu"
   ]
  },
  {
   "cell_type": "code",
   "execution_count": 2,
   "id": "27767311-5e08-46d1-a794-a284ac6f7ff3",
   "metadata": {},
   "outputs": [],
   "source": [
    "# Configure the IPU device.\n",
    "config = ipu.config.IPUConfig()\n",
    "config.auto_select_ipus = 2\n",
    "config.configure_ipu_system()"
   ]
  },
  {
   "cell_type": "code",
   "execution_count": 3,
   "id": "bccaed91-cbad-452e-a8cb-e56f667204cd",
   "metadata": {},
   "outputs": [],
   "source": [
    "# Create a simple model.\n",
    "def create_model():\n",
    "  return tf.keras.Sequential([\n",
    "      tf.keras.layers.Flatten(),\n",
    "      tf.keras.layers.Dense(256, activation='relu'),\n",
    "      tf.keras.layers.Dense(128, activation='relu'),\n",
    "      tf.keras.layers.Dense(10)\n",
    "  ])\n",
    "###end of def:"
   ]
  },
  {
   "cell_type": "code",
   "execution_count": 4,
   "id": "1991f5bb-0f8c-46b4-b9a7-91cbc2db61e2",
   "metadata": {},
   "outputs": [],
   "source": [
    "# Create a dataset for the model.\n",
    "def create_dataset():\n",
    "  mnist = tf.keras.datasets.mnist\n",
    "\n",
    "  (x_train, y_train), (_, _) = mnist.load_data()\n",
    "  x_train = x_train / 255.0\n",
    "\n",
    "  train_ds = tf.data.Dataset.from_tensor_slices(\n",
    "      (x_train, y_train)).shuffle(10000).batch(32, drop_remainder=True)\n",
    "    \n",
    "  train_ds = train_ds.map(lambda d, l:\n",
    "                          (tf.cast(d, tf.float32), tf.cast(l, tf.int32)))\n",
    "\n",
    "  return train_ds.repeat().prefetch(16)\n",
    "###end of def:"
   ]
  },
  {
   "cell_type": "code",
   "execution_count": 5,
   "id": "fd692481-c391-48c3-81a6-0a038ac12c7a",
   "metadata": {},
   "outputs": [],
   "source": [
    "dataset = create_dataset()"
   ]
  },
  {
   "cell_type": "code",
   "execution_count": 7,
   "id": "403bbca1-6174-4dab-9658-b976eb0103d9",
   "metadata": {},
   "outputs": [
    {
     "name": "stdout",
     "output_type": "stream",
     "text": [
      "Epoch 1/2\n",
      "80/80 [==============================] - 1s 6ms/step - loss: 6.5820 - accuracy: 0.2532\n",
      "Epoch 2/2\n",
      "80/80 [==============================] - 0s 564us/step - loss: 3.5147 - accuracy: 0.4548\n",
      "job Done!!\n"
     ]
    }
   ],
   "source": [
    "# Create a strategy for execution on the IPU.\n",
    "strategy = ipu.ipu_strategy.IPUStrategy()\n",
    "with strategy.scope():\n",
    "  # Create a Keras model inside the strategy.\n",
    "  model = create_model()\n",
    "\n",
    "  # Compile the model for training.\n",
    "  model.compile(\n",
    "      loss=tf.keras.losses.SparseCategoricalCrossentropy(),\n",
    "      optimizer=tf.keras.optimizers.RMSprop(),\n",
    "      metrics=[\"accuracy\"],\n",
    "      steps_per_execution=40,\n",
    "  )\n",
    "\n",
    "  model.set_gradient_accumulation_options(gradient_accumulation_steps_per_replica=10)\n",
    "\n",
    "  model.fit(dataset, epochs=2, steps_per_epoch=80)\n",
    "###end of with:\n",
    "print(\"job Done!!\")"
   ]
  },
  {
   "cell_type": "code",
   "execution_count": null,
   "id": "4d9fb494-4696-47b4-b7ac-fea31e84a810",
   "metadata": {},
   "outputs": [],
   "source": []
  }
 ],
 "metadata": {
  "kernelspec": {
   "display_name": "Python 3",
   "language": "python",
   "name": "python3"
  },
  "language_info": {
   "codemirror_mode": {
    "name": "ipython",
    "version": 3
   },
   "file_extension": ".py",
   "mimetype": "text/x-python",
   "name": "python",
   "nbconvert_exporter": "python",
   "pygments_lexer": "ipython3",
   "version": "3.6.9"
  }
 },
 "nbformat": 4,
 "nbformat_minor": 5
}
