{
 "cells": [
  {
   "cell_type": "code",
   "execution_count": 1,
   "id": "70ff7516-8eea-495d-9499-70833204e5c6",
   "metadata": {},
   "outputs": [
    {
     "name": "stdout",
     "output_type": "stream",
     "text": [
      "2.4.1\n"
     ]
    }
   ],
   "source": [
    "import tensorflow as tf\n",
    "print(tf.__version__)"
   ]
  },
  {
   "cell_type": "code",
   "execution_count": 2,
   "id": "bb8dd5f3-b802-487a-880d-65cd32f82b41",
   "metadata": {},
   "outputs": [
    {
     "name": "stdout",
     "output_type": "stream",
     "text": [
      "+---------------+--------------------------------------------------------------+\n",
      "|  gc-monitor   | Partition: 'mkbahk-pt-4ipus_ipuof' has 4 reconfigurable IPUs |\n",
      "+-------------+--------------------+----------+------+--------------+----+---------+-------+-------+\n",
      "|    IPU-M    |       Serial       |  ICU FW  | Type |Server version| ID | PCIe ID |Routing| GWSW  |\n",
      "+-------------+--------------------+----------+------+--------------+----+---------+-------+-------+\n",
      "|  10.1.5.10  | 0115.0002.8211021  |  2.3.2   |M2000 |    1.7.1     | 0  |    3    |  DNC  |       |\n",
      "|  10.1.5.10  | 0115.0002.8211021  |  2.3.2   |M2000 |    1.7.1     | 1  |    2    |  DNC  |       |\n",
      "+-------------+--------------------+----------+------+--------------+----+---------+-------+-------+\n",
      "|  10.1.5.10  | 0115.0001.8211021  |  2.3.2   |M2000 |    1.7.1     | 2  |    1    |  DNC  |       |\n",
      "|  10.1.5.10  | 0115.0001.8211021  |  2.3.2   |M2000 |    1.7.1     | 3  |    0    |  DNC  |       |\n",
      "+-------------+--------------------+----------+------+--------------+----+---------+-------+-------+\n",
      "+--------------------------------------------------------------------------------------------------+\n",
      "|                                      No attached processes                                       |\n",
      "+--------------------------------------------------------------------------------------------------+\n"
     ]
    }
   ],
   "source": [
    "!gc-monitor"
   ]
  },
  {
   "cell_type": "code",
   "execution_count": 3,
   "id": "9dff1c5e-ccfe-4f69-bb19-20ba03b9253c",
   "metadata": {},
   "outputs": [],
   "source": [
    "import tensorflow as tf\n",
    "from tensorflow import keras\n",
    "from tensorflow.keras import layers\n",
    "from tensorflow.python import ipu"
   ]
  },
  {
   "cell_type": "code",
   "execution_count": 4,
   "id": "4e3288a9-d8c8-4309-9642-6cdebc9d21a7",
   "metadata": {},
   "outputs": [],
   "source": [
    "a = tf.constant([[1.0, 2.0, 3.0], [4.0, 5.0, 6.0]])\n",
    "b = tf.constant([[1.0, 2.0], [3.0, 4.0], [5.0, 6.0]])"
   ]
  },
  {
   "cell_type": "code",
   "execution_count": 5,
   "id": "eba8cb19-43b6-4d71-957d-31f7094eb498",
   "metadata": {},
   "outputs": [],
   "source": [
    "@tf.function(experimental_compile=True)\n",
    "def matmul_fn(x, y):\n",
    "    z = tf.matmul(x, y)\n",
    "    return z\n",
    "###end of def:"
   ]
  },
  {
   "cell_type": "code",
   "execution_count": 6,
   "id": "80a8137e-3142-49c7-b1bd-1f63cf9cbb28",
   "metadata": {},
   "outputs": [
    {
     "name": "stdout",
     "output_type": "stream",
     "text": [
      "Graphcore device listing:\n",
      "\n",
      "-+- Id: [0], target:    [Fabric], PCI Domain: [3]\n",
      "-+- Id: [1], target:    [Fabric], PCI Domain: [2]\n",
      "-+- Id: [2], target:    [Fabric], PCI Domain: [1]\n",
      "-+- Id: [3], target:    [Fabric], PCI Domain: [0]\n",
      "-+- Id: [4], target: [Multi IPU]\n",
      " |--- Id: [0], DNC Id: [0], PCI Domain: [3]\n",
      " |--- Id: [1], DNC Id: [1], PCI Domain: [2]\n",
      "-+- Id: [5], target: [Multi IPU]\n",
      " |--- Id: [2], DNC Id: [0], PCI Domain: [1]\n",
      " |--- Id: [3], DNC Id: [1], PCI Domain: [0]\n",
      "-+- Id: [6], target: [Multi IPU]\n",
      " |--- Id: [0], DNC Id: [0], PCI Domain: [3]\n",
      " |--- Id: [1], DNC Id: [1], PCI Domain: [2]\n",
      " |--- Id: [2], DNC Id: [2], PCI Domain: [1]\n",
      " |--- Id: [3], DNC Id: [3], PCI Domain: [0]\n",
      "\n"
     ]
    }
   ],
   "source": [
    "!gc-info -l"
   ]
  },
  {
   "cell_type": "code",
   "execution_count": 9,
   "id": "51e93f59-d342-479e-afa5-20251875b539",
   "metadata": {},
   "outputs": [
    {
     "name": "stdout",
     "output_type": "stream",
     "text": [
      "ipu2\n",
      "False\n",
      "Specify the IPU version to be used by the IPU Model. Options are \"ipu1\" or\n",
      "\"ipu2\" (default).\n"
     ]
    }
   ],
   "source": [
    "cfg = ipu.config.IPUConfig()\n",
    "# Access by full name from the base config:\n",
    "metadata = cfg.get_attribute_metadata(\"ipu_model.version\")\n",
    "# Access by name relative to the \"ipu_model\" sub-category:\n",
    "metadata = cfg.ipu_model.get_attribute_metadata(\"version\")\n",
    "\n",
    "# Use the metadata\n",
    "#print(metadata.types)  # [str]\n",
    "print(metadata.default)  # \"ipu2\"\n",
    "print(metadata.deprecated)  # False indicates it is not deprecated\n",
    "print(metadata.__doc__)  # \"Specify the ipu version to be used by the...\"\n",
    "\n",
    "# Check a value against the option's type\n",
    "#metadata.check_type(5)  # Will fail, since this option needs a string.\n",
    "\n",
    "# Print a deprecation message if the option is deprecated\n",
    "metadata.warn_if_deprecated()\n",
    "#cfg.auto_select_ipus = 4\n",
    "#cfg.select_ipus = 6\n",
    "cfg.select_ipus = [0, 1]\n",
    "cfg.configure_ipu_system()"
   ]
  },
  {
   "cell_type": "code",
   "execution_count": 10,
   "id": "a725bab5-077e-4647-961f-1e39cc211cac",
   "metadata": {},
   "outputs": [],
   "source": [
    "strategy = ipu.ipu_strategy.IPUStrategy()\n",
    "with strategy.scope():\n",
    "    c = strategy.run(matmul_fn, args=(a, b))\n",
    "###end of with:"
   ]
  },
  {
   "cell_type": "code",
   "execution_count": 11,
   "id": "9cc5a414-958a-4028-813d-7aecd753ef58",
   "metadata": {},
   "outputs": [
    {
     "name": "stdout",
     "output_type": "stream",
     "text": [
      "tf.Tensor(\n",
      "[[22. 28.]\n",
      " [49. 64.]], shape=(2, 2), dtype=float32)\n"
     ]
    }
   ],
   "source": [
    "print(c)"
   ]
  },
  {
   "cell_type": "code",
   "execution_count": null,
   "id": "a53e3f66-f2db-4f1d-8481-e7d9761a7de5",
   "metadata": {},
   "outputs": [],
   "source": []
  }
 ],
 "metadata": {
  "kernelspec": {
   "display_name": "Python 3",
   "language": "python",
   "name": "python3"
  },
  "language_info": {
   "codemirror_mode": {
    "name": "ipython",
    "version": 3
   },
   "file_extension": ".py",
   "mimetype": "text/x-python",
   "name": "python",
   "nbconvert_exporter": "python",
   "pygments_lexer": "ipython3",
   "version": "3.6.9"
  }
 },
 "nbformat": 4,
 "nbformat_minor": 5
}
