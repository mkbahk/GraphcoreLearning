{
 "cells": [
  {
   "cell_type": "code",
   "execution_count": 1,
   "id": "6cd38cc2-6e5d-4acb-bccb-70117aa50efc",
   "metadata": {},
   "outputs": [],
   "source": [
    "import tensorflow as tf\n",
    "from tensorflow.python import ipu"
   ]
  },
  {
   "cell_type": "code",
   "execution_count": 2,
   "id": "58aea9b3-2905-43a8-a8e9-56f39e0465a3",
   "metadata": {},
   "outputs": [],
   "source": [
    "# Configure the IPU device.\n",
    "config = ipu.config.IPUConfig()\n",
    "config.auto_select_ipus = 4\n",
    "config.configure_ipu_system()"
   ]
  },
  {
   "cell_type": "code",
   "execution_count": 3,
   "id": "54729940-6160-4981-b10d-dc5f386058c6",
   "metadata": {},
   "outputs": [],
   "source": [
    "# Create a simple model.\n",
    "def create_model():\n",
    "  return tf.keras.Sequential([\n",
    "      tf.keras.layers.Flatten(),\n",
    "      tf.keras.layers.Dense(256, activation='relu'),\n",
    "      tf.keras.layers.Dense(128, activation='relu'),\n",
    "      tf.keras.layers.Dense(10)\n",
    "  ])\n",
    "###end of def:"
   ]
  },
  {
   "cell_type": "code",
   "execution_count": 4,
   "id": "ae1f21a2-cddd-45f4-9bf8-b92209cdb086",
   "metadata": {},
   "outputs": [],
   "source": [
    "# Create a dataset for the model.\n",
    "def create_dataset():\n",
    "  mnist = tf.keras.datasets.mnist\n",
    "\n",
    "  (x_train, y_train), (_, _) = mnist.load_data()\n",
    "  x_train = x_train / 255.0\n",
    "\n",
    "  train_ds = tf.data.Dataset.from_tensor_slices(\n",
    "      (x_train, y_train)).shuffle(10000).batch(32, drop_remainder=True)\n",
    "\n",
    "  train_ds = train_ds.map(lambda d, l:\n",
    "                          (tf.cast(d, tf.float32), tf.cast(l, tf.int32)))\n",
    "\n",
    "  return train_ds.repeat().prefetch(16)\n",
    "###end of def:"
   ]
  },
  {
   "cell_type": "code",
   "execution_count": 5,
   "id": "9c30f567-efaa-42bf-b00a-94c66d7b08a8",
   "metadata": {},
   "outputs": [],
   "source": [
    "# Define a function which performs a single training step of a model.\n",
    "def training_step(features, labels, model, optimizer):\n",
    "  # Execute the model and calculate the loss.\n",
    "  with tf.GradientTape() as tape:\n",
    "    predictions = model(features, training=True)\n",
    "    prediction_loss = tf.keras.losses.sparse_categorical_crossentropy(\n",
    "        labels, predictions)\n",
    "    loss = tf.reduce_mean(prediction_loss)\n",
    "\n",
    "  # Apply the gradients.\n",
    "  grads = tape.gradient(loss, model.trainable_variables)\n",
    "  optimizer.apply_gradients(zip(grads, model.trainable_variables))\n",
    "  return loss\n",
    "###end of def:"
   ]
  },
  {
   "cell_type": "code",
   "execution_count": 6,
   "id": "bb93bcc9-5891-47a8-b05d-726185645fb0",
   "metadata": {},
   "outputs": [],
   "source": [
    "# Create a loop which performs ``steps_per_execution`` iterations of\n",
    "# ``training_step`` every time this function is executed.\n",
    "@tf.function(experimental_compile=True)\n",
    "def training_loop(iterator, steps_per_execution, outfeed, model, optimizer):\n",
    "  # Create an on device loop.\n",
    "\n",
    "  for _ in tf.range(steps_per_execution):\n",
    "\n",
    "    # Get the next input.\n",
    "\n",
    "    features, labels = next(iterator)\n",
    "\n",
    "\n",
    "    # Perform the training step.\n",
    "\n",
    "    loss = training_step(features, labels, model, optimizer)\n",
    "\n",
    "\n",
    "    # Enqueue the loss after each step to the outfeed queue. This is then read\n",
    "    # back on the host for monitoring the model performance.\n",
    "    outfeed.enqueue(loss)\n",
    "\n",
    "    ###end of for:\n",
    "###end of def:"
   ]
  },
  {
   "cell_type": "code",
   "execution_count": 7,
   "id": "668e471c-0711-4bff-8e99-fc6acee9a3b8",
   "metadata": {},
   "outputs": [
    {
     "name": "stdout",
     "output_type": "stream",
     "text": [
      "Current step: 0, training loss: [8.146599 8.133381 8.662933 8.141745]\n",
      "Current step: 10, training loss: [8.3841   8.651029 9.131838 8.436365]\n",
      "Current step: 20, training loss: [8.106489  8.262478  8.320961  7.9381304]\n",
      "Current step: 30, training loss: [7.653104  8.415407  7.8580656 9.816082 ]\n",
      "Current step: 40, training loss: [8.674641 8.113836 8.611405 8.967892]\n",
      "Current step: 50, training loss: [8.289221  8.23896   8.440311  7.9367113]\n",
      "Current step: 60, training loss: [8.13826  8.238836 9.347116 8.541212]\n",
      "Current step: 70, training loss: [8.440409 8.641497 8.238611 7.936721]\n",
      "Current step: 80, training loss: [7.936783  8.087751  7.8861456 8.3395605]\n",
      "Current step: 90, training loss: [8.540633 8.541008 8.541094 8.64173 ]\n",
      "Job Done!!!\n"
     ]
    }
   ],
   "source": [
    "# Create a strategy for execution on the IPU.\n",
    "strategy = ipu.ipu_strategy.IPUStrategy()\n",
    "with strategy.scope():\n",
    "  # Create a Keras model.\n",
    "  model = create_model()\n",
    "\n",
    "  # Create an optimizer.\n",
    "  opt = tf.keras.optimizers.SGD(0.01)\n",
    "\n",
    "  # Create an iterator inside the strategy for the dataset the model will be\n",
    "  # trained on.\n",
    "\n",
    "  iterator = iter(create_dataset())\n",
    "\n",
    "\n",
    "  # Create an IPUOutfeedQueue to collect results from each step.\n",
    "  outfeed_queue = ipu.ipu_outfeed_queue.IPUOutfeedQueue()\n",
    "\n",
    "  # Total number of steps (batches) to run.\n",
    "  total_steps = 100\n",
    "\n",
    "  # How many steps (batches) to execute each time the device executes.\n",
    "  steps_per_execution = 10\n",
    "\n",
    "  for begin_step in range(0, total_steps, steps_per_execution):\n",
    "    # Run the training loop.\n",
    "\n",
    "    strategy.run(training_loop,\n",
    "                 args=(iterator, steps_per_execution, outfeed_queue, model,\n",
    "                       opt))\n",
    "\n",
    "    # Calculate the mean loss.\n",
    "\n",
    "    mean_loss = sum(outfeed_queue) / steps_per_execution\n",
    "\n",
    "    print(f\"Current step: {begin_step}, training loss: {mean_loss}\")\n",
    "  ###end of for:\n",
    "###end of with:\n",
    "print(\"Job Done!!!\")"
   ]
  },
  {
   "cell_type": "code",
   "execution_count": null,
   "id": "8a8d187b-188f-41f6-a228-7733854a13a7",
   "metadata": {},
   "outputs": [],
   "source": []
  }
 ],
 "metadata": {
  "kernelspec": {
   "display_name": "Python 3",
   "language": "python",
   "name": "python3"
  },
  "language_info": {
   "codemirror_mode": {
    "name": "ipython",
    "version": 3
   },
   "file_extension": ".py",
   "mimetype": "text/x-python",
   "name": "python",
   "nbconvert_exporter": "python",
   "pygments_lexer": "ipython3",
   "version": "3.6.9"
  }
 },
 "nbformat": 4,
 "nbformat_minor": 5
}
